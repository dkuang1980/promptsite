{
 "cells": [
  {
   "cell_type": "code",
   "execution_count": null,
   "id": "c4f78007-a4a6-4cf1-8176-e6d8428edfdc",
   "metadata": {},
   "outputs": [],
   "source": [
    "! pip install openai"
   ]
  },
  {
   "cell_type": "code",
   "execution_count": null,
   "id": "4ae58478-3da4-412d-8864-a70d0db4c108",
   "metadata": {},
   "outputs": [],
   "source": [
    "import os\n",
    "from openai import OpenAI\n",
    "from promptsite import tracker"
   ]
  },
  {
   "cell_type": "code",
   "execution_count": null,
   "id": "0eb5c0e8-297e-44ac-b290-7661ed53782b",
   "metadata": {},
   "outputs": [],
   "source": [
    "# Set up your OpenAI API key\n",
    "os.environ[\"OPENAI_API_KEY\"]=\"your_api_key\""
   ]
  },
  {
   "cell_type": "code",
   "execution_count": null,
   "id": "21c2b1fa-8a12-4eaa-87fa-c77e47564b69",
   "metadata": {},
   "outputs": [],
   "source": [
    "from promptsite import PromptSite\n",
    "\n",
    "ps = PromptSite()\n",
    "\n",
    "@tracker(\n",
    "    prompt_id=\"generate_schedule\",\n",
    "    description=\"Develop a daily schedule for a remote worker\",\n",
    "    ps=ps\n",
    ")\n",
    "def generate_schedule(content: str, llm_config: dict = {}, **kwargs):\n",
    "    client = OpenAI()\n",
    "    response = client.chat.completions.create(\n",
    "        messages=[{\"role\": \"user\", \"content\": content}],\n",
    "        **llm_config\n",
    "    )\n",
    "    return response.choices[0].message.content.strip()"
   ]
  },
  {
   "cell_type": "code",
   "execution_count": null,
   "id": "3e51833d-e2fb-41ff-9fe2-46013733fb16",
   "metadata": {},
   "outputs": [],
   "source": [
    "response = generate_schedule(\n",
    "    content=\"Develop a daily schedule for a remote worker to maximize productivity while maintaining a healthy work-life balance.\",\n",
    "    llm_config={\n",
    "        \"model\": \"gpt-3.5-turbo\",\n",
    "        \"max_tokens\": 100,\n",
    "        \"temperature\": 0.3\n",
    "    }\n",
    ")"
   ]
  },
  {
   "cell_type": "code",
   "execution_count": null,
   "id": "7c625b26-ceb7-4108-b275-1228579d8879",
   "metadata": {},
   "outputs": [],
   "source": [
    "run=ps.get_last_run(\"generate_schedule\")"
   ]
  },
  {
   "cell_type": "code",
   "execution_count": null,
   "id": "846b2556-2732-4667-bb77-b52e902de5d6",
   "metadata": {},
   "outputs": [],
   "source": [
    "print(run.llm_output)"
   ]
  },
  {
   "cell_type": "code",
   "execution_count": null,
   "id": "533045b3-eba5-45d6-9907-d0d1bbf6a66e",
   "metadata": {},
   "outputs": [],
   "source": [
    "print(run.final_prompt)"
   ]
  }
 ],
 "metadata": {
  "kernelspec": {
   "display_name": "Python 3 (ipykernel)",
   "language": "python",
   "name": "python3"
  },
  "language_info": {
   "codemirror_mode": {
    "name": "ipython",
    "version": 3
   },
   "file_extension": ".py",
   "mimetype": "text/x-python",
   "name": "python",
   "nbconvert_exporter": "python",
   "pygments_lexer": "ipython3",
   "version": "3.9.6"
  }
 },
 "nbformat": 4,
 "nbformat_minor": 5
}
