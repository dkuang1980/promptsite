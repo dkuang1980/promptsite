{
 "cells": [
  {
   "cell_type": "code",
   "execution_count": null,
   "id": "c4f78007-a4a6-4cf1-8176-e6d8428edfdc",
   "metadata": {},
   "outputs": [],
   "source": [
    "! pip install transformers TensorFlow tf-keras"
   ]
  },
  {
   "cell_type": "code",
   "execution_count": null,
   "id": "4ae58478-3da4-412d-8864-a70d0db4c108",
   "metadata": {},
   "outputs": [],
   "source": [
    "from transformers import pipeline\n",
    "from promptsite import tracker"
   ]
  },
  {
   "cell_type": "code",
   "execution_count": null,
   "id": "21c2b1fa-8a12-4eaa-87fa-c77e47564b69",
   "metadata": {},
   "outputs": [],
   "source": [
    "@tracker(\n",
    "    prompt_id=\"write_story\",\n",
    "    description=\"Write a short story\",\n",
    ")\n",
    "def write_story(content: str, llm_config: dict = {}, **kwargs):\n",
    "    generator = pipeline(\"text-generation\", **llm_config)\n",
    "    response = generator(content, max_length=300, num_return_sequences=1)\n",
    "    return response[0]['generated_text']"
   ]
  },
  {
   "cell_type": "code",
   "execution_count": null,
   "id": "3e51833d-e2fb-41ff-9fe2-46013733fb16",
   "metadata": {},
   "outputs": [],
   "source": [
    "response = write_story(\n",
    "    content=\"Write a captivating short story about a time traveler who accidentally changes a critical historical event and has to fix it before the timeline collapses.\",\n",
    "    llm_config={\n",
    "        \"model\": \"gpt2\"\n",
    "    }\n",
    ")\n",
    "\n",
    "print(response)"
   ]
  }
 ],
 "metadata": {
  "kernelspec": {
   "display_name": "Python 3 (ipykernel)",
   "language": "python",
   "name": "python3"
  },
  "language_info": {
   "codemirror_mode": {
    "name": "ipython",
    "version": 3
   },
   "file_extension": ".py",
   "mimetype": "text/x-python",
   "name": "python",
   "nbconvert_exporter": "python",
   "pygments_lexer": "ipython3",
   "version": "3.9.6"
  }
 },
 "nbformat": 4,
 "nbformat_minor": 5
}
